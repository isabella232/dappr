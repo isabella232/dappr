{
 "cells": [
  {
   "attachments": {},
   "cell_type": "markdown",
   "metadata": {},
   "source": [
    "# Convert .tsv files to .csv"
   ]
  },
  {
   "cell_type": "code",
   "execution_count": 13,
   "metadata": {},
   "outputs": [
    {
     "name": "stdout",
     "output_type": "stream",
     "text": [
      "/Users/mahirh/dev/Thesis/link-prediction-at-scale/link_prediction/dataset\n"
     ]
    }
   ],
   "source": [
    "import os\n",
    "\n",
    "root_dir = os.path.dirname(os.getcwd())\n",
    "old = root_dir + \"/dataset/konnect/sv_wikiquote_edits.tsv\"\n",
    "new = root_dir + \"/dataset/konnect/sv_wikiquote_edits.csv\"\n",
    "data = None\n",
    "\n",
    "def covert_tsv_to_csv() -> list[str]:\n",
    "    if not os.path.exists(old):\n",
    "        raise FileNotFoundError(old)\n",
    "    \n",
    "    lines = list()\n",
    "    for line in open(old, \"r\"):\n",
    "        if line.startswith(\"%\"):\n",
    "            continue\n",
    "\n",
    "        u, v, _, time = tuple(line.strip().split(\"\\t\"))\n",
    "\n",
    "        lines.append((u, v, time))\n",
    "    \n",
    "    lines = list(sorted( lines, key=lambda x: x[2] ))\n",
    "\n",
    "    with open(new, \"a\") as file:\n",
    "        for line in lines:\n",
    "            file.write(line[0] + \" \" + line[1] + \" \" + line[2]+ \"\\n\")\n",
    "\n",
    "covert_tsv_to_csv()"
   ]
  }
 ],
 "metadata": {
  "kernelspec": {
   "display_name": "Python 3.10.4 ('neo4j')",
   "language": "python",
   "name": "python3"
  },
  "language_info": {
   "codemirror_mode": {
    "name": "ipython",
    "version": 3
   },
   "file_extension": ".py",
   "mimetype": "text/x-python",
   "name": "python",
   "nbconvert_exporter": "python",
   "pygments_lexer": "ipython3",
   "version": "3.10.4"
  },
  "orig_nbformat": 4,
  "vscode": {
   "interpreter": {
    "hash": "3c38d94eaad927c21668d127a3c70bf706bfeed164f5f1151eaa8d45dadcbd9b"
   }
  }
 },
 "nbformat": 4,
 "nbformat_minor": 2
}
