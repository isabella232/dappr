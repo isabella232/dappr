{
 "cells": [
  {
   "attachments": {},
   "cell_type": "markdown",
   "metadata": {},
   "source": [
    "# Running multiple benchmarks"
   ]
  },
  {
   "cell_type": "code",
   "execution_count": 1,
   "metadata": {},
   "outputs": [
    {
     "name": "stderr",
     "output_type": "stream",
     "text": [
      "WARNING:root:The OGB package is out of date. Your version is 1.3.4, while the latest version is 1.3.5.\n",
      "c:\\Users\\Filip Kalkan\\anaconda3\\envs\\neo4j\\lib\\site-packages\\tqdm\\auto.py:22: TqdmWarning: IProgress not found. Please update jupyter and ipywidgets. See https://ipywidgets.readthedocs.io/en/stable/user_install.html\n",
      "  from .autonotebook import tqdm as notebook_tqdm\n"
     ]
    }
   ],
   "source": [
    "import sys\n",
    "sys.path.append('candidate_selection')\n",
    "\n",
    "from dataset.dataset_reader import Datasets\n",
    "from multi_benchmark import multirun\n",
    "\n",
    "%load_ext autoreload\n",
    "%autoreload 2\n",
    "\n"
   ]
  },
  {
   "attachments": {},
   "cell_type": "markdown",
   "metadata": {},
   "source": [
    "Configure:\n",
    "- What algorithms to run\n",
    "- What datasets to run on\n",
    "- What c-values to use\n",
    "\n",
    "Outputs the results to the specified text file."
   ]
  },
  {
   "cell_type": "code",
   "execution_count": 10,
   "metadata": {},
   "outputs": [
    {
     "name": "stdout",
     "output_type": "stream",
     "text": [
      "Starting 2023-01-30 12:13:49.940840\n",
      "algorithm_options {'run_knn': False, 'run_bfs': False, 'run_link_waldo': False, 'run_dappr': True}\n",
      "Loading static graph\n",
      "Loaded Datasets.YEAST with 2375 nodes and 11693 edges\n",
      "Number of hidden edges in test set: 2339 (20% of all edges)\n",
      "Running h: 1 / 1  or dataset: Datasets.YEAST\n",
      "Number of edges to find: 2339 (1 times number of hidden edges)\n"
     ]
    },
    {
     "name": "stderr",
     "output_type": "stream",
     "text": [
      "100%|██████████| 2375/2375 [00:00<00:00, 132074.73it/s]\n"
     ]
    },
    {
     "name": "stdout",
     "output_type": "stream",
     "text": [
      "Took total time:  0.016952991485595703 iteration 1\n",
      "Total abs SQRTMSE: 5614.400000000442 Total distance: 4750 mse/distance: 1.181978947368514\n"
     ]
    },
    {
     "name": "stderr",
     "output_type": "stream",
     "text": [
      "100%|██████████| 2375/2375 [00:00<00:00, 20174.68it/s]\n"
     ]
    },
    {
     "name": "stdout",
     "output_type": "stream",
     "text": [
      "Took total time:  0.03915977478027344 iteration 2\n",
      "Total abs SQRTMSE: 3372.072276977918 Total distance: 4489.463137254455 mse/distance: 0.7511081333970189\n"
     ]
    },
    {
     "name": "stderr",
     "output_type": "stream",
     "text": [
      "100%|██████████| 2375/2375 [00:00<00:00, 14152.45it/s]\n"
     ]
    },
    {
     "name": "stdout",
     "output_type": "stream",
     "text": [
      "Took total time:  0.04790472984313965 iteration 3\n",
      "Total abs SQRTMSE: 1667.455187928762 Total distance: 3253.3219841250725 mse/distance: 0.5125392432920213\n"
     ]
    },
    {
     "name": "stderr",
     "output_type": "stream",
     "text": [
      "100%|██████████| 2375/2375 [00:00<00:00, 13060.30it/s]\n"
     ]
    },
    {
     "name": "stdout",
     "output_type": "stream",
     "text": [
      "Took total time:  0.04309511184692383 iteration 4\n",
      "Total abs SQRTMSE: 1038.5125074420155 Total distance: 3241.142128062943 mse/distance: 0.3204156024045384\n"
     ]
    },
    {
     "name": "stderr",
     "output_type": "stream",
     "text": [
      "100%|██████████| 2375/2375 [00:00<00:00, 13451.38it/s]\n"
     ]
    },
    {
     "name": "stdout",
     "output_type": "stream",
     "text": [
      "Took total time:  0.04806971549987793 iteration 5\n",
      "Total abs SQRTMSE: 605.7866948418904 Total distance: 2888.157156697848 mse/distance: 0.2097485219725757\n"
     ]
    },
    {
     "name": "stderr",
     "output_type": "stream",
     "text": [
      "100%|██████████| 2375/2375 [00:00<00:00, 14235.76it/s]\n"
     ]
    },
    {
     "name": "stdout",
     "output_type": "stream",
     "text": [
      "Took total time:  0.049874305725097656 iteration 6\n",
      "Total abs SQRTMSE: 410.48335643826186 Total distance: 2883.8722377073136 mse/distance: 0.142337566509048\n"
     ]
    },
    {
     "name": "stderr",
     "output_type": "stream",
     "text": [
      "100%|██████████| 2375/2375 [00:00<00:00, 13998.81it/s]\n"
     ]
    },
    {
     "name": "stdout",
     "output_type": "stream",
     "text": [
      "Took total time:  0.04718303680419922 iteration 7\n",
      "Total abs SQRTMSE: 269.3477356604488 Total distance: 2771.9143812835055 mse/distance: 0.09717029410400843\n"
     ]
    },
    {
     "name": "stderr",
     "output_type": "stream",
     "text": [
      "100%|██████████| 2375/2375 [00:00<00:00, 13734.35it/s]\n"
     ]
    },
    {
     "name": "stdout",
     "output_type": "stream",
     "text": [
      "Took total time:  0.05008363723754883 iteration 8\n",
      "Total abs SQRTMSE: 195.94910534497637 Total distance: 2771.8838870269233 mse/distance: 0.0706916715602933\n"
     ]
    },
    {
     "name": "stderr",
     "output_type": "stream",
     "text": [
      "100%|██████████| 2375/2375 [00:00<00:00, 13362.28it/s]\n"
     ]
    },
    {
     "name": "stdout",
     "output_type": "stream",
     "text": [
      "Took total time:  0.05086398124694824 iteration 9\n",
      "Total abs SQRTMSE: 140.52671280590846 Total distance: 2730.00634057362 mse/distance: 0.05147486682261018\n",
      "Total k: 2338.999999999948\n",
      "Adding global pool. Amount of missing links: 1202 . Amount of links: 1137\n",
      "dappr {'recall': 0.37366395895681914, 'precision': 0.37366395895681914, 'scan_rate': 0.00041467036011080333, 'scans_per_found_edge': 2.6762013729977117, 'num_found_edges': 874, 'num_predicted_edges': 2339, 'num_scanned_w_LP': 2339, 'time': 1.969240427017212}\n"
     ]
    }
   ],
   "source": [
    "multirun([\n",
    "\n",
    "    # Datasets.ARXIV_CONDMAT,\n",
    "    # Datasets.SV_WIKIQUOTE_EDITS,\n",
    "    # Datasets.YEAST,\n",
    "    # Datasets.ARXIV,\n",
    "    # Datasets.DBLP,\n",
    "    # Datasets.EPINIONS,\n",
    "    # Datasets.FACEBOOK1,\n",
    "    # Datasets.HS_PROTEIN,\n",
    "    Datasets.YEAST,\n",
    "    # Datasets.POWER,\n",
    "    # Datasets.US_AIR,\n",
    "    # Datasets.ROUTER,\n",
    "    # Datasets.FACEBOOK2,\n",
    "    # Datasets.MATH_OVERFLOW,\n",
    "    # Datasets.MOVIE_LENS,\n",
    "    # Datasets.DIGG,\n",
    "    # Datasets.ENRON,\n",
    "    # Datasets.REDDIT,\n",
    "    # Datasets.OGB_DDI,\n",
    "    # Datasets.OGB_COLLAB,\n",
    "], range(1, 2), 1, \"benchmarks-auto-2.txt\",\n",
    "    {\n",
    "        \"run_knn\": False,\n",
    "        \"run_bfs\": False,\n",
    "        \"run_link_waldo\": False,\n",
    "        \"run_dappr\": True,\n",
    "}\n",
    ")\n"
   ]
  },
  {
   "cell_type": "code",
   "execution_count": null,
   "metadata": {},
   "outputs": [],
   "source": []
  }
 ],
 "metadata": {
  "kernelspec": {
   "display_name": "Python 3.10.6 ('neo4j')",
   "language": "python",
   "name": "python3"
  },
  "language_info": {
   "codemirror_mode": {
    "name": "ipython",
    "version": 3
   },
   "file_extension": ".py",
   "mimetype": "text/x-python",
   "name": "python",
   "nbconvert_exporter": "python",
   "pygments_lexer": "ipython3",
   "version": "3.10.6"
  },
  "orig_nbformat": 4,
  "vscode": {
   "interpreter": {
    "hash": "d510ff6ca9d988fef402c5846a35f0754252bb4893b84777d4efd0b4e44e873d"
   }
  }
 },
 "nbformat": 4,
 "nbformat_minor": 2
}
