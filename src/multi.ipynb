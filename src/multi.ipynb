{
 "cells": [
  {
   "attachments": {},
   "cell_type": "markdown",
   "metadata": {},
   "source": [
    "# Running multiple benchmarks"
   ]
  },
  {
   "cell_type": "code",
   "execution_count": 1,
   "metadata": {},
   "outputs": [
    {
     "name": "stderr",
     "output_type": "stream",
     "text": [
      "WARNING:root:The OGB package is out of date. Your version is 1.3.4, while the latest version is 1.3.5.\n",
      "c:\\Users\\Filip Kalkan\\anaconda3\\envs\\neo4j\\lib\\site-packages\\tqdm\\auto.py:22: TqdmWarning: IProgress not found. Please update jupyter and ipywidgets. See https://ipywidgets.readthedocs.io/en/stable/user_install.html\n",
      "  from .autonotebook import tqdm as notebook_tqdm\n"
     ]
    }
   ],
   "source": [
    "import sys\n",
    "sys.path.append('candidate_selection')\n",
    "\n",
    "from dataset.dataset_reader import Datasets\n",
    "from multi_benchmark import multirun\n",
    "\n",
    "%load_ext autoreload\n",
    "%autoreload 2\n",
    "\n"
   ]
  },
  {
   "attachments": {},
   "cell_type": "markdown",
   "metadata": {},
   "source": [
    "Configure:\n",
    "- What algorithms to run\n",
    "- What datasets to run on\n",
    "- What c-values to use\n",
    "\n",
    "Outputs the results to the specified text file."
   ]
  },
  {
   "cell_type": "code",
   "execution_count": 8,
   "metadata": {},
   "outputs": [
    {
     "name": "stdout",
     "output_type": "stream",
     "text": [
      "Starting 2023-01-30 12:13:00.986142\n",
      "algorithm_options {'run_knn': True, 'run_bfs': False, 'run_link_waldo': False, 'run_dappr': False}\n",
      "Loading static graph\n",
      "Loaded Datasets.YEAST with 2375 nodes and 11693 edges\n",
      "Number of hidden edges in test set: 2339 (20% of all edges)\n",
      "LinkWaldo predicting None links\n",
      "Fitting NetMF.\n"
     ]
    },
    {
     "name": "stderr",
     "output_type": "stream",
     "text": [
      "c:\\Users\\Filip Kalkan\\anaconda3\\envs\\neo4j\\lib\\site-packages\\karateclub\\node_embedding\\neighbourhood\\netmf.py:55: FutureWarning: adjacency_matrix will return a scipy.sparse array instead of a matrix in Networkx 3.0.\n",
      "  A = nx.adjacency_matrix(graph, nodelist=range(graph.number_of_nodes()))\n"
     ]
    },
    {
     "name": "stdout",
     "output_type": "stream",
     "text": [
      "NetMF Fit.\n"
     ]
    },
    {
     "name": "stderr",
     "output_type": "stream",
     "text": [
      "\u001b[32m[I 2023-01-30 12:13:01,972]\u001b[0m A new study created in memory with name: no-name-9c6eda28-ed3b-4b60-9678-950502f6becb\u001b[0m\n"
     ]
    },
    {
     "name": "stdout",
     "output_type": "stream",
     "text": [
      "Loading data.\n",
      "Train size: 11693 Test size: 2339\n",
      "Data loaded.\n"
     ]
    },
    {
     "name": "stderr",
     "output_type": "stream",
     "text": [
      "\u001b[32m[I 2023-01-30 12:13:02,084]\u001b[0m Trial 0 finished with value: 0.9578766514377897 and parameters: {'C': 0.7693799317030786}. Best is trial 0 with value: 0.9578766514377897.\u001b[0m\n"
     ]
    },
    {
     "name": "stdout",
     "output_type": "stream",
     "text": [
      "Failed to generate embs [Errno 2] No such file or directory: \"pickles/YEAST_netmf2_logistic_regression_Graph named 'YEAST' with 2375 nodes and 11693 edges.pkl\"\n",
      "Running h: 1 / 1  or dataset: Datasets.YEAST\n",
      "Number of edges to find: 2339 (1 times number of hidden edges)\n",
      "Failed iteration 1 local variable 'oracle_fn' referenced before assignment\n"
     ]
    },
    {
     "name": "stderr",
     "output_type": "stream",
     "text": [
      "Traceback (most recent call last):\n",
      "  File \"c:\\Users\\Filip Kalkan\\Documents\\public_dappr\\dappr\\src\\multi_benchmark.py\", line 129, in multirun\n",
      "    open(pickle_path, 'wb')\n",
      "FileNotFoundError: [Errno 2] No such file or directory: \"pickles/YEAST_netmf2_logistic_regression_Graph named 'YEAST' with 2375 nodes and 11693 edges.pkl\"\n",
      "Traceback (most recent call last):\n",
      "  File \"c:\\Users\\Filip Kalkan\\Documents\\public_dappr\\dappr\\src\\multi_benchmark.py\", line 183, in multirun\n",
      "    knn = Knn(G_test, edges_to_find, oracle_fn, clf_best_accuracy, sample_rate=0.75, delta=0.0001, p_random_neighbors=1.0, max_iterations=40, parallel=False, verbose=False) # Parallel not recommended\n",
      "UnboundLocalError: local variable 'oracle_fn' referenced before assignment\n"
     ]
    }
   ],
   "source": [
    "multirun([\n",
    "\n",
    "    # Datasets.ARXIV_CONDMAT,\n",
    "    # Datasets.SV_WIKIQUOTE_EDITS,\n",
    "    # Datasets.YEAST,\n",
    "    # Datasets.ARXIV,\n",
    "    # Datasets.DBLP,\n",
    "    # Datasets.EPINIONS,\n",
    "    # Datasets.FACEBOOK1,\n",
    "    # Datasets.HS_PROTEIN,\n",
    "    Datasets.YEAST,\n",
    "    # Datasets.POWER,\n",
    "    # Datasets.US_AIR,\n",
    "    # Datasets.ROUTER,\n",
    "    # Datasets.FACEBOOK2,\n",
    "    # Datasets.MATH_OVERFLOW,\n",
    "    # Datasets.MOVIE_LENS,\n",
    "    # Datasets.DIGG,\n",
    "    # Datasets.ENRON,\n",
    "    # Datasets.REDDIT,\n",
    "    # Datasets.OGB_DDI,\n",
    "    # Datasets.OGB_COLLAB,\n",
    "], range(1, 2), 1, \"benchmarks-auto-2.txt\",\n",
    "    {\n",
    "        \"run_knn\": False,\n",
    "        \"run_bfs\": False,\n",
    "        \"run_link_waldo\": False,\n",
    "        \"run_dappr\": True,\n",
    "}\n",
    ")\n"
   ]
  },
  {
   "cell_type": "code",
   "execution_count": null,
   "metadata": {},
   "outputs": [],
   "source": []
  }
 ],
 "metadata": {
  "kernelspec": {
   "display_name": "Python 3.10.6 ('neo4j')",
   "language": "python",
   "name": "python3"
  },
  "language_info": {
   "codemirror_mode": {
    "name": "ipython",
    "version": 3
   },
   "file_extension": ".py",
   "mimetype": "text/x-python",
   "name": "python",
   "nbconvert_exporter": "python",
   "pygments_lexer": "ipython3",
   "version": "3.10.6"
  },
  "orig_nbformat": 4,
  "vscode": {
   "interpreter": {
    "hash": "d510ff6ca9d988fef402c5846a35f0754252bb4893b84777d4efd0b4e44e873d"
   }
  }
 },
 "nbformat": 4,
 "nbformat_minor": 2
}
